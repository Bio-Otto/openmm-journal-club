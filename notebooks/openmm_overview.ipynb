{
 "cells": [
  {
   "cell_type": "markdown",
   "metadata": {},
   "source": [
    "# OpenMM - An Overview\n",
    "\n",
    "This notebook provides a practical introduction to the molecular dynamics (MD) engine OpenMM and was prepared for a journal club presentation at the [Structural Bioinformatics and Computational Biochemistry Unit](http://sbcb.bioch.ox.ac.uk/) at the University of Oxford. It is inspired by [OpenMM 7: Rapid development of high performance algorithms for molecular dynamics](https://doi.org/10.1371/journal.pcbi.1005659), the paper introducing the latest version of OpenMM.\n",
    "\n",
    "### OpenMM - Who is it for?\n",
    "\n",
    "We already have AMBER, CHARMM, GROMACS, and NAMD (not to mention Expresso, Desmond, LAMMPS, Tinker, and many others), so why do we need yet another MD engine?\n",
    "\n",
    "The answer is: flexibility! OpenMM provides its users with an unrecedented level of control over their simulations, starting from the ability to write custom simulation scripts in Python to the capability of defining novel forces and even integrators. At the same time, it provides competetive performance by implementing kernels to run simulations on GPU hardware - without requiring the user to write CUDA or even C++ code. These features together make OpenMM a powerful research tool for the molecular simulation community.\n",
    "\n",
    "### And who should stay away?\n",
    "\n",
    "There is only one real shortcoming of OpenMM: It does not support MPI parallelism. So if you plan on simulating very large systems that would benefit from scaling to hundrets or thousands of cores, OpenMM might not be the best choice. Similarly, if the hardware you have available does not come with GPUs, you will be limited to a handful of threads and will not see competetive performance.\n",
    "\n",
    "Another thing to keep in mind is that OpenMM's flexibility comes at the cost of an increased ramp up time. Writing a robust simulation script for productive use takes some time even for experienced Python programmers. If all you want to do is run a simple MD simulation, you might achieve that goal faster by using a tool like GROMACS.\n",
    "\n",
    "## Installing OpenMM\n",
    "\n",
    "By far the easiest way of installing OpenMM is through the `conda` package manager of Anaconda Python. This requires no compilation from source, needs no root rights, and takes care of all dependencies except for CUDA.\n",
    "\n",
    "As of OpenMM 7.3, `conda` packages compatible with all CUDA versions back to 7.5 are available from the [Anaconda Cloud](https://anaconda.org/omnia/openmm). All you need to do is specify the right label when selecting the installation channel.\n",
    "\n",
    "This is an example of how you would install it:\n",
    "\n",
    "```bash\n",
    "# create a new conda environment for OpenMM:\n",
    "conda create -n openmm-7-3-0-cuda90 python=3.7\n",
    "\n",
    "# activate the newly created environment:\n",
    "source activate openmm-7-3-0-cuda90\n",
    "\n",
    "# install FFT library from omnia channel:\n",
    "# (needs to be installed separately because of channel conflicts)\n",
    "conda install -c omnia fftw3f\n",
    "\n",
    "# install openmm with appropriate CUDA labal:\n",
    "# (CUDA needs to be installed on the system to run simulations on the GPU)\n",
    "conda install -c omnia/label/cuda90 openmm=7.3.0\n",
    "\n",
    "# also install IPython in this environment:\n",
    "# (provides a neater interactive python shell)\n",
    "conda install ipython\n",
    "\n",
    "# to use this environment as kernel in a Jupyter notebook:\n",
    "conda install ipykernel\n",
    "```\n",
    "\n",
    "Once installed, the installation can be tested via:\n",
    "\n",
    "```bash\n",
    "python -m simtk.testInstallation\n",
    "```\n",
    "OpenMM can now be imported into a Python script like any other Python module.\n"
   ]
  },
  {
   "cell_type": "markdown",
   "metadata": {},
   "source": [
    "## Running a Simple Simulation\n",
    "\n",
    "To run simulations with OpenMM, you need to write a Python script. In this script, you load a starting configuration and force field data and specify the algorithms used to carry out the simulation. The script can then be executed like any other Python script - including from a Jupyter notebook as in this case.\n",
    "\n",
    "The example below illustrates this on [DHFR](https://en.wikipedia.org/wiki/Dihydrofolate_reductase) in explicit solvent, using the AMBER99SB-ILDN force field and TIP3P water model."
   ]
  },
  {
   "cell_type": "code",
   "execution_count": 2,
   "metadata": {},
   "outputs": [
    {
     "name": "stdout",
     "output_type": "stream",
     "text": [
      "--> loading input data...\n",
      "--> running energy minimsation...\n",
      "--> reduced energy from -299285.6227214655 kJ/mol to -366434.9033171318 kJ/mol\n",
      "--> running time integration...\n",
      "#\"Time (ps)\"\t\"Potential Energy (kJ/mole)\"\t\"Temperature (K)\"\t\"Speed (ns/day)\"\n",
      "0.020000000000000004\t-340040.34812195454\t159.56501907873937\t0\n",
      "0.04000000000000002\t-338744.1517979552\t153.40541840535846\t2.75\n",
      "0.06000000000000004\t-338423.55678689375\t151.7128078471142\t2.75\n",
      "0.08000000000000006\t-337416.8118224936\t146.66535026806474\t2.77\n",
      "0.10000000000000007\t-336944.2878138131\t144.28589539556998\t2.73\n",
      "0.12000000000000009\t-336466.0436581623\t142.0984739115031\t2.72\n",
      "0.1400000000000001\t-337149.0470295342\t145.41448838070258\t2.76\n",
      "0.16000000000000011\t-337534.0067801288\t147.38874373892395\t2.73\n",
      "0.18000000000000013\t-337917.93918418715\t149.31512748773332\t2.72\n",
      "0.20000000000000015\t-338849.20130252454\t153.82965818238407\t2.73\n"
     ]
    }
   ],
   "source": [
    "# import OpenMM library and application layer:\n",
    "from simtk.openmm.app import *\n",
    "from simtk.openmm import *\n",
    "from simtk.unit import *\n",
    "\n",
    "# other imports:\n",
    "from sys import stdout\n",
    "\n",
    "# load an input structure and topology data:\n",
    "print(\"--> loading input data...\")\n",
    "pdb = PDBFile('../data/dhfr.pdb')\n",
    "forcefield = ForceField('amber99sbildn.xml', 'tip3p.xml')\n",
    "\n",
    "# assemble a simulation system:\n",
    "system = forcefield.createSystem(\n",
    "    pdb.topology,          # will guess standard residue bonds and use CONECT records for ligands\n",
    "    nonbondedMethod = PME, # periodic boundaries with PME for Coulomb interactions\n",
    "    nonbondedCutoff = 1*nanometer,    # Lennard-Jones cutoff\n",
    "    constraints = HBonds   # SHAKE contraints on bonds with hydrogen\n",
    ")\n",
    "\n",
    "# define an integrator:\n",
    "integrator = VerletIntegrator(0.002*picoseconds)\n",
    "\n",
    "# decide whether to run on CPU or accelerator hardware:\n",
    "platform = Platform.getPlatformByName(\"CPU\")\n",
    "\n",
    "# create a simulation object:\n",
    "simulation = Simulation(\n",
    "    pdb.topology, \n",
    "    system, \n",
    "    integrator,\n",
    "    platform\n",
    ")\n",
    "\n",
    "# initialise positions and velocities:\n",
    "simulation.context.setPositions(pdb.positions)\n",
    "simulation.context.setVelocitiesToTemperature(300*kelvin)\n",
    "\n",
    "# perform \n",
    "print(\"--> running energy minimsation...\")\n",
    "energy_before = simulation.context.getState(getEnergy=True).getPotentialEnergy()\n",
    "simulation.minimizeEnergy(maxIterations = 100)\n",
    "energy_after = simulation.context.getState(getEnergy=True).getPotentialEnergy()\n",
    "print(\"--> reduced energy from \" + str(energy_before) + \" to \" + str(energy_after))\n",
    "\n",
    "# will report simulation progress on the command line:\n",
    "simulation.reporters.append(\n",
    "    StateDataReporter(\n",
    "        stdout,     # could also be a file\n",
    "        reportInterval = 10, \n",
    "        time = True, \n",
    "        potentialEnergy = True, \n",
    "        temperature = True,\n",
    "        volume = False,\n",
    "        speed = True,\n",
    "        separator = \"\\t\"\n",
    "    )\n",
    ")\n",
    "\n",
    "# will also write trajectory data to file:\n",
    "simulation.reporters.append(\n",
    "    DCDReporter(\n",
    "        'output.dcd', \n",
    "        reportInterval = 10\n",
    "    )\n",
    ")\n",
    "\n",
    "# perform time integration:\n",
    "print(\"--> running time integration...\")\n",
    "simulation.step(100)\n",
    "\n"
   ]
  },
  {
   "cell_type": "markdown",
   "metadata": {},
   "source": [
    "The example above is relatively simple. In practice, you would usually add a thermostat and barostat to sample from the NPT ensemble. You would likely also run the simulation on the GPU and potentially start not from an PDB structure but from a checkpoint file capturing the state of a previous simulation. Or you might want to start from a configuration and topology generated with a different MD engine (like GROMACS or CHARMM).\n",
    "\n",
    "All that is possible with OpenMM, but beyond the scope of this simple overview. Take a look at [OpenMM's user manual](http://docs.openmm.org/7.3.0/userguide/index.html) for a detailed description."
   ]
  },
  {
   "cell_type": "markdown",
   "metadata": {},
   "source": [
    "## Custom Forces\n",
    "\n",
    "Custom forces are a unique feature of OpenMM which makes it possible to define new interactions on top of the ones defined by the force field. All you need to do is provide an expression for the contribution of the force to the internal energy of the simulation system. OpenMM will then calculate the energy derivatves (i.e. forces) via automatic differentiation and translate them into machine code for execuation. This works on both the CPU and the GPU, so even though custom forces are specified in Python, they can be as fast as the standard forces implemented in OpenMM's C++ core.\n",
    "\n",
    "This feature can be extremely useful\n",
    "\n",
    " * to restrain complex biochemical systems in a desirable configuration,\n",
    " * to model external effects like a transmembrane voltage,\n",
    " * or to apply fictitious forces in free energy calculations.\n",
    " \n",
    "Below are two illustrative examples of the first two use cases.\n",
    "\n",
    "**Note: Custom forces should be added to the simulation system object before creating the simulation object!**"
   ]
  },
  {
   "cell_type": "markdown",
   "metadata": {},
   "source": [
    "### External Electric Fields\n",
    "\n",
    "In the following example, a transmembrane voltage is modelled as a constant electric field along the z-axis of the simulation box (implying that the membrane lies in the x/y-plane). This is implemented via OpenMM's `CustomExternalForce`:"
   ]
  },
  {
   "cell_type": "code",
   "execution_count": 2,
   "metadata": {},
   "outputs": [
    {
     "name": "stdout",
     "output_type": "stream",
     "text": [
      "--> applying electric field E = 6.02214076e+22 J/(nm mol C) to 23558 particles\n"
     ]
    },
    {
     "data": {
      "text/plain": [
       "5"
      ]
     },
     "execution_count": 2,
     "metadata": {},
     "output_type": "execute_result"
    }
   ],
   "source": [
    "# define a new force in terms of the corresponding potential energy:\n",
    "# (note that z is interpreted as a particle's z-coordinate)\n",
    "efield_force = CustomExternalForce(\"-E*z*q\")\n",
    "\n",
    "# the field strength is the same for all particles, so its value can be set as a global parameter:\n",
    "avogadro_constant = 6.02214076e23\n",
    "efield_z = 0.1 * joule / coulomb / nanometer / mole * avogadro_constant\n",
    "efield_force.addGlobalParameter(\"E\", efield_z.value_in_unit(kilojoule_per_mole/elementary_charge/nanometer))\n",
    "\n",
    "# different atoms carry different charges, so q must be declared a particle-dependent parameter:\n",
    "efield_force.addPerParticleParameter(\"q\")\n",
    "\n",
    "# obtain the system's nonbonded force to get access to charges as defined in the force field:\n",
    "nbforce = [system.getForce(i) for i in range(system.getNumForces()) if isinstance(system.getForce(i), NonbondedForce)][0]\n",
    "\n",
    "# loop over all atoms in the system:\n",
    "for atm in pdb.topology.atoms():\n",
    "    \n",
    "    # obtain charge of this atom from the force field's non-bonded force:\n",
    "    charge = nbforce.getParticleParameters(atm.index)[0].in_units_of(coulomb)\n",
    "\n",
    "    # set the value of the charge parameter:\n",
    "    # (note that charge must be given in units of elementary charge)\n",
    "    efield_force.addParticle(atm.index, [charge.value_in_unit(elementary_charge)] )\n",
    "      \n",
    "# finally add the electric field force to the simulation system:\n",
    "print(\"--> applying electric field E = \" + str(efield_z) + \" to \" + str(efield_force.getNumParticles()) + \" particles\")\n",
    "system.addForce(efield_force)"
   ]
  },
  {
   "cell_type": "markdown",
   "metadata": {},
   "source": [
    "While the assumption of constant field strength is commonly applied, it would be easy to make the field depend non-linearly on z (or x or y). OpenMM's custom force mechanism understands all standard algebraic operations (`+ (add), - (subtract), * (multiply), / (divide), and ^ (power)`) alongside a number of more complex functions (`sqrt, exp, log, sin, cos, sec, csc, tan, cot, asin, acos, atan, sinh, cosh, tanh, erf, erfc, min, max, abs, floor, ceil, step, delta, select`). Read the [CustomExternalForce documentation](http://docs.openmm.org/7.3.0/api-c++/generated/OpenMM.CustomExternalForce.html#_CPPv2N6OpenMM19CustomExternalForceE) for more details."
   ]
  },
  {
   "cell_type": "markdown",
   "metadata": {},
   "source": [
    "### C-Alpha Positional Restraints\n",
    "\n",
    "Positional restraints are a common way of preventing large-scale conformational changes. In OpenMM they can be implemented through a `CustomExternalForce` in a straightforward way. The code below applied a harmonic potential to all C-alpha atoms in the simulation system:"
   ]
  },
  {
   "cell_type": "code",
   "execution_count": 4,
   "metadata": {},
   "outputs": [
    {
     "name": "stdout",
     "output_type": "stream",
     "text": [
      "--> applying harmonic positional restraints to CA atoms\n"
     ]
    },
    {
     "data": {
      "text/plain": [
       "6"
      ]
     },
     "execution_count": 4,
     "metadata": {},
     "output_type": "execute_result"
    }
   ],
   "source": [
    "    # create a new external force object:\n",
    "    # (the periodicdistance function calculates a distance under periodic boundary conditions)\n",
    "    calpha_restraints = CustomExternalForce(\"k*periodicdistance(x, y, z, x0, y0, z0)^2\")\n",
    "    \n",
    "    # define all global (i.e. particle-independent) parameters:\n",
    "    calpha_restraints.addGlobalParameter(\"k\", 1000*kilojoule_per_mole/nanometer**2)\n",
    "    \n",
    "    # declare all other parameters to be particle-dependent:\n",
    "    calpha_restraints.addPerParticleParameter(\"x0\")\n",
    "    calpha_restraints.addPerParticleParameter(\"y0\")\n",
    "    calpha_restraints.addPerParticleParameter(\"z0\")\n",
    "\n",
    "    # apply the restraining force to selected atoms:\n",
    "    print(\"--> applying harmonic positional restraints to CA atoms\")\n",
    "    for atm in pdb.topology.atoms():\n",
    "        # is this a C-alpha atom?\n",
    "        if atm.name == \"CA\":\n",
    "            # define the values of each per-particle parameter:\n",
    "            calpha_restraints.addParticle(atm.index, pdb.positions[atm.index])\n",
    "\n",
    "    # finally add the restraining force to the simulation system:\n",
    "    system.addForce(calpha_restraints)"
   ]
  },
  {
   "cell_type": "markdown",
   "metadata": {},
   "source": [
    "The restraining force could easily be extended to apply to e.g. all heavy protein atoms or to all phosphate headgroups of a lipid."
   ]
  },
  {
   "cell_type": "markdown",
   "metadata": {},
   "source": [
    "### Other Custom Forces\n",
    "\n",
    "OpenMM supports much more than just custom external forces. Amongst other things, it supports the following:\n",
    "\n",
    " * `CustomBondForce`, `CustomAngleForce`, and `CustomTorsionForce` for custom bonded interactions\n",
    " * `CustomNonbondedForce` for used-defined long-ranged interactions\n",
    " * `CustomCentroidBondForce` and `CustomCompoundBondForce` for interactions between multiple particles\n",
    " * `CustomCVForce` for forces acting on collective variables defined in terms of all particle positions (including an `RMSDForce`)\n",
    "\n",
    "Take a look at the OpenMM [force documentation](http://docs.openmm.org/7.3.0/api-c++/library.html#id2) for an overview of all available custom forces. The `openmmtools` extension also provides [useful additional forces](https://openmmtools.readthedocs.io/en/latest/forces.html#)."
   ]
  },
  {
   "cell_type": "markdown",
   "metadata": {},
   "source": [
    "## Custom Integrators\n",
    "\n",
    "Custom integrators are another feature that makes OpenMM very versatile and that also opens up the black box of how MD calculations are performed. They provide a mechanism for specifying an algorithm to update particle positions and velocities by only specifying Python code.\n",
    "\n",
    "Below is an example of how a the canonical leapfrog integrator would be implemented through the `CustomIntegrator` formalism:\n"
   ]
  },
  {
   "cell_type": "code",
   "execution_count": 6,
   "metadata": {},
   "outputs": [
    {
     "data": {
      "text/plain": [
       "4"
      ]
     },
     "execution_count": 6,
     "metadata": {},
     "output_type": "execute_result"
    }
   ],
   "source": [
    "# create integrator and specify time step:\n",
    "integrator = CustomIntegrator(2*femtosecond)\n",
    "\n",
    "# add temporary helper variable variables (for each degree of freedom):\n",
    "integrator.addPerDofVariable('x0', 0)\n",
    "\n",
    "# x0 will hold the position at the current time to later compute velocity:\n",
    "integrator.addComputePerDof('x0', 'x')\n",
    "\n",
    "# estimate velocity from acceleration via Newton's law:\n",
    "# (prior to this step, v is the velocity at time t - dt/2)\n",
    "integrator.addComputePerDof('v', 'v+dt*f/m')\n",
    "\n",
    "# advance positions:\n",
    "integrator.addComputePerDof('x', 'x+dt*v')\n",
    "\n",
    "# adjust updated positions to fulfill constraints (e.g. water geometry, hydrogen covalent bond length):\n",
    "integrator.addConstrainPositions()\n",
    "\n",
    "# calculate actual velocity between new and previous position:\n",
    "integrator.addComputePerDof('v', '(x-x0)/dt')"
   ]
  },
  {
   "cell_type": "markdown",
   "metadata": {},
   "source": [
    "Of course, the leapfrog integrator is already built into OpenMM alongside several other useful algorithms like Langevin integrators or multiple time stepping integrators. But the `CustomIntegrator` class allows the user to implemented completely novel algorithms, for example to combine MD integration with Monte Carlo moves. Note that the `openmmtools` extension already provides many more [advanced integrators](https://openmmtools.readthedocs.io/en/latest/integrators.html) based on the `CustomIntegrator` class."
   ]
  },
  {
   "cell_type": "markdown",
   "metadata": {},
   "source": [
    "## Other Notable Features\n",
    "\n",
    "OpenMM provides a number of other useful features, which are briefly summarised below:\n",
    "\n",
    " * Mixed precision mode: Forces are calculated in single precision, but force accumulation and integration are performed in double precision. This ensures high numerical accuracy without a significant performance loss. Mixed precision mode (as well as single precision mode and double precision mode) can be selected at runtime.\n",
    " * Input format interoperability: OpenMM can read coordinate and topology files from other MD engines (including AMBER, CHARMM, DESMOND, and GROMACS). This makes it possible to set up simulations with one tool (e.g. pdb2gmx or CHARMM-GUI) and subsequently run them in OpenMM.\n",
    " * Polarisable force fields: OpenMM supports both the AMOEBA and CHARMM-Drude polarisable force fields, both of which can be executed on the GPU."
   ]
  },
  {
   "cell_type": "markdown",
   "metadata": {},
   "source": [
    "## Where to next?\n",
    "\n",
    "The following sources may prove useful in further exploring OpenMM:\n",
    "\n",
    "* [OpenMM User Manual](http://docs.openmm.org/7.0.0/userguide/index.html) - detailed user guide and theory explanation\n",
    "* [OpenMM Forum](https://simtk.org/plugins/phpBB/indexPhpbb.php?group_id=161&pluginname=phpBB) - get help for using OpenMM, usually very responsive\n",
    "* [OpenMM Github Repository](https://github.com/pandegroup/openmm) - report bugs and request or contribute new features\n",
    "* [OpenMM Tools](https://openmmtools.readthedocs.io/en/0.18.1/) - \"A batteries-included toolkit for the GPU-accelerated OpenMM molecular simulation engine.\"\n",
    "* [YANK](http://getyank.org/latest/) - Python library for alchemical free energy calculations based on OpenMM\n",
    "* [ParmEd](http://parmed.github.io/ParmEd/html/index.html) - Python library for topology editing, highly interoperable with OpenMM\n",
    "\n",
    "You can also search for \"OpenMM\" on GitHub - many third party packages and extensions from the original developers exist."
   ]
  }
 ],
 "metadata": {
  "kernelspec": {
   "display_name": "Python [conda env:openmm-7-3-0-cuda90]",
   "language": "python",
   "name": "conda-env-openmm-7-3-0-cuda90-py"
  },
  "language_info": {
   "codemirror_mode": {
    "name": "ipython",
    "version": 3
   },
   "file_extension": ".py",
   "mimetype": "text/x-python",
   "name": "python",
   "nbconvert_exporter": "python",
   "pygments_lexer": "ipython3",
   "version": "3.7.3"
  }
 },
 "nbformat": 4,
 "nbformat_minor": 2
}
